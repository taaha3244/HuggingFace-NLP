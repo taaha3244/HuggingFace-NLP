{
  "nbformat": 4,
  "nbformat_minor": 0,
  "metadata": {
    "colab": {
      "provenance": [],
      "authorship_tag": "ABX9TyMHzEFEapNKSroDfs4AgTfC",
      "include_colab_link": true
    },
    "kernelspec": {
      "name": "python3",
      "display_name": "Python 3"
    },
    "language_info": {
      "name": "python"
    },
    "widgets": {
      "application/vnd.jupyter.widget-state+json": {
        "ca658b6b3b0143938bc7faa2c2050020": {
          "model_module": "@jupyter-widgets/controls",
          "model_name": "HBoxModel",
          "model_module_version": "1.5.0",
          "state": {
            "_dom_classes": [],
            "_model_module": "@jupyter-widgets/controls",
            "_model_module_version": "1.5.0",
            "_model_name": "HBoxModel",
            "_view_count": null,
            "_view_module": "@jupyter-widgets/controls",
            "_view_module_version": "1.5.0",
            "_view_name": "HBoxView",
            "box_style": "",
            "children": [
              "IPY_MODEL_81faa6d4a0f942c0815cfe35d8e64701",
              "IPY_MODEL_da7664008c9d48318c0385045ce46350",
              "IPY_MODEL_d4eff2aba1354e0cab7dcf31f70e75e6"
            ],
            "layout": "IPY_MODEL_a111839f71e84ce289d318139e4a15e7"
          }
        },
        "81faa6d4a0f942c0815cfe35d8e64701": {
          "model_module": "@jupyter-widgets/controls",
          "model_name": "HTMLModel",
          "model_module_version": "1.5.0",
          "state": {
            "_dom_classes": [],
            "_model_module": "@jupyter-widgets/controls",
            "_model_module_version": "1.5.0",
            "_model_name": "HTMLModel",
            "_view_count": null,
            "_view_module": "@jupyter-widgets/controls",
            "_view_module_version": "1.5.0",
            "_view_name": "HTMLView",
            "description": "",
            "description_tooltip": null,
            "layout": "IPY_MODEL_941c447b59994736be0656d9ac492d94",
            "placeholder": "​",
            "style": "IPY_MODEL_e9c93916927a4446be97f4d3380e6569",
            "value": "config.json: 100%"
          }
        },
        "da7664008c9d48318c0385045ce46350": {
          "model_module": "@jupyter-widgets/controls",
          "model_name": "FloatProgressModel",
          "model_module_version": "1.5.0",
          "state": {
            "_dom_classes": [],
            "_model_module": "@jupyter-widgets/controls",
            "_model_module_version": "1.5.0",
            "_model_name": "FloatProgressModel",
            "_view_count": null,
            "_view_module": "@jupyter-widgets/controls",
            "_view_module_version": "1.5.0",
            "_view_name": "ProgressView",
            "bar_style": "success",
            "description": "",
            "description_tooltip": null,
            "layout": "IPY_MODEL_8c590de4e9cd4dea9ab5a6845d915254",
            "max": 629,
            "min": 0,
            "orientation": "horizontal",
            "style": "IPY_MODEL_230a92adf65d437ca112c5873076d444",
            "value": 629
          }
        },
        "d4eff2aba1354e0cab7dcf31f70e75e6": {
          "model_module": "@jupyter-widgets/controls",
          "model_name": "HTMLModel",
          "model_module_version": "1.5.0",
          "state": {
            "_dom_classes": [],
            "_model_module": "@jupyter-widgets/controls",
            "_model_module_version": "1.5.0",
            "_model_name": "HTMLModel",
            "_view_count": null,
            "_view_module": "@jupyter-widgets/controls",
            "_view_module_version": "1.5.0",
            "_view_name": "HTMLView",
            "description": "",
            "description_tooltip": null,
            "layout": "IPY_MODEL_10352a5002e345d482f927bd38d6bda4",
            "placeholder": "​",
            "style": "IPY_MODEL_d064c79fb7eb4b5e8caeda927c7477e5",
            "value": " 629/629 [00:00&lt;00:00, 14.0kB/s]"
          }
        },
        "a111839f71e84ce289d318139e4a15e7": {
          "model_module": "@jupyter-widgets/base",
          "model_name": "LayoutModel",
          "model_module_version": "1.2.0",
          "state": {
            "_model_module": "@jupyter-widgets/base",
            "_model_module_version": "1.2.0",
            "_model_name": "LayoutModel",
            "_view_count": null,
            "_view_module": "@jupyter-widgets/base",
            "_view_module_version": "1.2.0",
            "_view_name": "LayoutView",
            "align_content": null,
            "align_items": null,
            "align_self": null,
            "border": null,
            "bottom": null,
            "display": null,
            "flex": null,
            "flex_flow": null,
            "grid_area": null,
            "grid_auto_columns": null,
            "grid_auto_flow": null,
            "grid_auto_rows": null,
            "grid_column": null,
            "grid_gap": null,
            "grid_row": null,
            "grid_template_areas": null,
            "grid_template_columns": null,
            "grid_template_rows": null,
            "height": null,
            "justify_content": null,
            "justify_items": null,
            "left": null,
            "margin": null,
            "max_height": null,
            "max_width": null,
            "min_height": null,
            "min_width": null,
            "object_fit": null,
            "object_position": null,
            "order": null,
            "overflow": null,
            "overflow_x": null,
            "overflow_y": null,
            "padding": null,
            "right": null,
            "top": null,
            "visibility": null,
            "width": null
          }
        },
        "941c447b59994736be0656d9ac492d94": {
          "model_module": "@jupyter-widgets/base",
          "model_name": "LayoutModel",
          "model_module_version": "1.2.0",
          "state": {
            "_model_module": "@jupyter-widgets/base",
            "_model_module_version": "1.2.0",
            "_model_name": "LayoutModel",
            "_view_count": null,
            "_view_module": "@jupyter-widgets/base",
            "_view_module_version": "1.2.0",
            "_view_name": "LayoutView",
            "align_content": null,
            "align_items": null,
            "align_self": null,
            "border": null,
            "bottom": null,
            "display": null,
            "flex": null,
            "flex_flow": null,
            "grid_area": null,
            "grid_auto_columns": null,
            "grid_auto_flow": null,
            "grid_auto_rows": null,
            "grid_column": null,
            "grid_gap": null,
            "grid_row": null,
            "grid_template_areas": null,
            "grid_template_columns": null,
            "grid_template_rows": null,
            "height": null,
            "justify_content": null,
            "justify_items": null,
            "left": null,
            "margin": null,
            "max_height": null,
            "max_width": null,
            "min_height": null,
            "min_width": null,
            "object_fit": null,
            "object_position": null,
            "order": null,
            "overflow": null,
            "overflow_x": null,
            "overflow_y": null,
            "padding": null,
            "right": null,
            "top": null,
            "visibility": null,
            "width": null
          }
        },
        "e9c93916927a4446be97f4d3380e6569": {
          "model_module": "@jupyter-widgets/controls",
          "model_name": "DescriptionStyleModel",
          "model_module_version": "1.5.0",
          "state": {
            "_model_module": "@jupyter-widgets/controls",
            "_model_module_version": "1.5.0",
            "_model_name": "DescriptionStyleModel",
            "_view_count": null,
            "_view_module": "@jupyter-widgets/base",
            "_view_module_version": "1.2.0",
            "_view_name": "StyleView",
            "description_width": ""
          }
        },
        "8c590de4e9cd4dea9ab5a6845d915254": {
          "model_module": "@jupyter-widgets/base",
          "model_name": "LayoutModel",
          "model_module_version": "1.2.0",
          "state": {
            "_model_module": "@jupyter-widgets/base",
            "_model_module_version": "1.2.0",
            "_model_name": "LayoutModel",
            "_view_count": null,
            "_view_module": "@jupyter-widgets/base",
            "_view_module_version": "1.2.0",
            "_view_name": "LayoutView",
            "align_content": null,
            "align_items": null,
            "align_self": null,
            "border": null,
            "bottom": null,
            "display": null,
            "flex": null,
            "flex_flow": null,
            "grid_area": null,
            "grid_auto_columns": null,
            "grid_auto_flow": null,
            "grid_auto_rows": null,
            "grid_column": null,
            "grid_gap": null,
            "grid_row": null,
            "grid_template_areas": null,
            "grid_template_columns": null,
            "grid_template_rows": null,
            "height": null,
            "justify_content": null,
            "justify_items": null,
            "left": null,
            "margin": null,
            "max_height": null,
            "max_width": null,
            "min_height": null,
            "min_width": null,
            "object_fit": null,
            "object_position": null,
            "order": null,
            "overflow": null,
            "overflow_x": null,
            "overflow_y": null,
            "padding": null,
            "right": null,
            "top": null,
            "visibility": null,
            "width": null
          }
        },
        "230a92adf65d437ca112c5873076d444": {
          "model_module": "@jupyter-widgets/controls",
          "model_name": "ProgressStyleModel",
          "model_module_version": "1.5.0",
          "state": {
            "_model_module": "@jupyter-widgets/controls",
            "_model_module_version": "1.5.0",
            "_model_name": "ProgressStyleModel",
            "_view_count": null,
            "_view_module": "@jupyter-widgets/base",
            "_view_module_version": "1.2.0",
            "_view_name": "StyleView",
            "bar_color": null,
            "description_width": ""
          }
        },
        "10352a5002e345d482f927bd38d6bda4": {
          "model_module": "@jupyter-widgets/base",
          "model_name": "LayoutModel",
          "model_module_version": "1.2.0",
          "state": {
            "_model_module": "@jupyter-widgets/base",
            "_model_module_version": "1.2.0",
            "_model_name": "LayoutModel",
            "_view_count": null,
            "_view_module": "@jupyter-widgets/base",
            "_view_module_version": "1.2.0",
            "_view_name": "LayoutView",
            "align_content": null,
            "align_items": null,
            "align_self": null,
            "border": null,
            "bottom": null,
            "display": null,
            "flex": null,
            "flex_flow": null,
            "grid_area": null,
            "grid_auto_columns": null,
            "grid_auto_flow": null,
            "grid_auto_rows": null,
            "grid_column": null,
            "grid_gap": null,
            "grid_row": null,
            "grid_template_areas": null,
            "grid_template_columns": null,
            "grid_template_rows": null,
            "height": null,
            "justify_content": null,
            "justify_items": null,
            "left": null,
            "margin": null,
            "max_height": null,
            "max_width": null,
            "min_height": null,
            "min_width": null,
            "object_fit": null,
            "object_position": null,
            "order": null,
            "overflow": null,
            "overflow_x": null,
            "overflow_y": null,
            "padding": null,
            "right": null,
            "top": null,
            "visibility": null,
            "width": null
          }
        },
        "d064c79fb7eb4b5e8caeda927c7477e5": {
          "model_module": "@jupyter-widgets/controls",
          "model_name": "DescriptionStyleModel",
          "model_module_version": "1.5.0",
          "state": {
            "_model_module": "@jupyter-widgets/controls",
            "_model_module_version": "1.5.0",
            "_model_name": "DescriptionStyleModel",
            "_view_count": null,
            "_view_module": "@jupyter-widgets/base",
            "_view_module_version": "1.2.0",
            "_view_name": "StyleView",
            "description_width": ""
          }
        },
        "2fcf4771cf2f4fa6b75b47d0637693b2": {
          "model_module": "@jupyter-widgets/controls",
          "model_name": "HBoxModel",
          "model_module_version": "1.5.0",
          "state": {
            "_dom_classes": [],
            "_model_module": "@jupyter-widgets/controls",
            "_model_module_version": "1.5.0",
            "_model_name": "HBoxModel",
            "_view_count": null,
            "_view_module": "@jupyter-widgets/controls",
            "_view_module_version": "1.5.0",
            "_view_name": "HBoxView",
            "box_style": "",
            "children": [
              "IPY_MODEL_5b12f84cf0c0487f9bb6e99c7131a214",
              "IPY_MODEL_bfb438f3bcef44a4b84fcbb9fcae10ee",
              "IPY_MODEL_f0445c91bb8a4662a27c3937fc0a8ff0"
            ],
            "layout": "IPY_MODEL_7cfd54f4e4e34cd188febebba4373c9a"
          }
        },
        "5b12f84cf0c0487f9bb6e99c7131a214": {
          "model_module": "@jupyter-widgets/controls",
          "model_name": "HTMLModel",
          "model_module_version": "1.5.0",
          "state": {
            "_dom_classes": [],
            "_model_module": "@jupyter-widgets/controls",
            "_model_module_version": "1.5.0",
            "_model_name": "HTMLModel",
            "_view_count": null,
            "_view_module": "@jupyter-widgets/controls",
            "_view_module_version": "1.5.0",
            "_view_name": "HTMLView",
            "description": "",
            "description_tooltip": null,
            "layout": "IPY_MODEL_e0b992ed6de7456f9b3875dacfbd5364",
            "placeholder": "​",
            "style": "IPY_MODEL_81cb05efa2524a5885a448160ea6ac1b",
            "value": "model.safetensors: 100%"
          }
        },
        "bfb438f3bcef44a4b84fcbb9fcae10ee": {
          "model_module": "@jupyter-widgets/controls",
          "model_name": "FloatProgressModel",
          "model_module_version": "1.5.0",
          "state": {
            "_dom_classes": [],
            "_model_module": "@jupyter-widgets/controls",
            "_model_module_version": "1.5.0",
            "_model_name": "FloatProgressModel",
            "_view_count": null,
            "_view_module": "@jupyter-widgets/controls",
            "_view_module_version": "1.5.0",
            "_view_name": "ProgressView",
            "bar_style": "success",
            "description": "",
            "description_tooltip": null,
            "layout": "IPY_MODEL_552b4179f1584ee1b936f748c9e334fb",
            "max": 267832558,
            "min": 0,
            "orientation": "horizontal",
            "style": "IPY_MODEL_bf91ceddfeed40e19fa1ee1841dd9e00",
            "value": 267832558
          }
        },
        "f0445c91bb8a4662a27c3937fc0a8ff0": {
          "model_module": "@jupyter-widgets/controls",
          "model_name": "HTMLModel",
          "model_module_version": "1.5.0",
          "state": {
            "_dom_classes": [],
            "_model_module": "@jupyter-widgets/controls",
            "_model_module_version": "1.5.0",
            "_model_name": "HTMLModel",
            "_view_count": null,
            "_view_module": "@jupyter-widgets/controls",
            "_view_module_version": "1.5.0",
            "_view_name": "HTMLView",
            "description": "",
            "description_tooltip": null,
            "layout": "IPY_MODEL_2d852960ed9847f7b0793d598ab790a0",
            "placeholder": "​",
            "style": "IPY_MODEL_f3dd71b2f466442ba68a2a00c65f6b43",
            "value": " 268M/268M [00:02&lt;00:00, 140MB/s]"
          }
        },
        "7cfd54f4e4e34cd188febebba4373c9a": {
          "model_module": "@jupyter-widgets/base",
          "model_name": "LayoutModel",
          "model_module_version": "1.2.0",
          "state": {
            "_model_module": "@jupyter-widgets/base",
            "_model_module_version": "1.2.0",
            "_model_name": "LayoutModel",
            "_view_count": null,
            "_view_module": "@jupyter-widgets/base",
            "_view_module_version": "1.2.0",
            "_view_name": "LayoutView",
            "align_content": null,
            "align_items": null,
            "align_self": null,
            "border": null,
            "bottom": null,
            "display": null,
            "flex": null,
            "flex_flow": null,
            "grid_area": null,
            "grid_auto_columns": null,
            "grid_auto_flow": null,
            "grid_auto_rows": null,
            "grid_column": null,
            "grid_gap": null,
            "grid_row": null,
            "grid_template_areas": null,
            "grid_template_columns": null,
            "grid_template_rows": null,
            "height": null,
            "justify_content": null,
            "justify_items": null,
            "left": null,
            "margin": null,
            "max_height": null,
            "max_width": null,
            "min_height": null,
            "min_width": null,
            "object_fit": null,
            "object_position": null,
            "order": null,
            "overflow": null,
            "overflow_x": null,
            "overflow_y": null,
            "padding": null,
            "right": null,
            "top": null,
            "visibility": null,
            "width": null
          }
        },
        "e0b992ed6de7456f9b3875dacfbd5364": {
          "model_module": "@jupyter-widgets/base",
          "model_name": "LayoutModel",
          "model_module_version": "1.2.0",
          "state": {
            "_model_module": "@jupyter-widgets/base",
            "_model_module_version": "1.2.0",
            "_model_name": "LayoutModel",
            "_view_count": null,
            "_view_module": "@jupyter-widgets/base",
            "_view_module_version": "1.2.0",
            "_view_name": "LayoutView",
            "align_content": null,
            "align_items": null,
            "align_self": null,
            "border": null,
            "bottom": null,
            "display": null,
            "flex": null,
            "flex_flow": null,
            "grid_area": null,
            "grid_auto_columns": null,
            "grid_auto_flow": null,
            "grid_auto_rows": null,
            "grid_column": null,
            "grid_gap": null,
            "grid_row": null,
            "grid_template_areas": null,
            "grid_template_columns": null,
            "grid_template_rows": null,
            "height": null,
            "justify_content": null,
            "justify_items": null,
            "left": null,
            "margin": null,
            "max_height": null,
            "max_width": null,
            "min_height": null,
            "min_width": null,
            "object_fit": null,
            "object_position": null,
            "order": null,
            "overflow": null,
            "overflow_x": null,
            "overflow_y": null,
            "padding": null,
            "right": null,
            "top": null,
            "visibility": null,
            "width": null
          }
        },
        "81cb05efa2524a5885a448160ea6ac1b": {
          "model_module": "@jupyter-widgets/controls",
          "model_name": "DescriptionStyleModel",
          "model_module_version": "1.5.0",
          "state": {
            "_model_module": "@jupyter-widgets/controls",
            "_model_module_version": "1.5.0",
            "_model_name": "DescriptionStyleModel",
            "_view_count": null,
            "_view_module": "@jupyter-widgets/base",
            "_view_module_version": "1.2.0",
            "_view_name": "StyleView",
            "description_width": ""
          }
        },
        "552b4179f1584ee1b936f748c9e334fb": {
          "model_module": "@jupyter-widgets/base",
          "model_name": "LayoutModel",
          "model_module_version": "1.2.0",
          "state": {
            "_model_module": "@jupyter-widgets/base",
            "_model_module_version": "1.2.0",
            "_model_name": "LayoutModel",
            "_view_count": null,
            "_view_module": "@jupyter-widgets/base",
            "_view_module_version": "1.2.0",
            "_view_name": "LayoutView",
            "align_content": null,
            "align_items": null,
            "align_self": null,
            "border": null,
            "bottom": null,
            "display": null,
            "flex": null,
            "flex_flow": null,
            "grid_area": null,
            "grid_auto_columns": null,
            "grid_auto_flow": null,
            "grid_auto_rows": null,
            "grid_column": null,
            "grid_gap": null,
            "grid_row": null,
            "grid_template_areas": null,
            "grid_template_columns": null,
            "grid_template_rows": null,
            "height": null,
            "justify_content": null,
            "justify_items": null,
            "left": null,
            "margin": null,
            "max_height": null,
            "max_width": null,
            "min_height": null,
            "min_width": null,
            "object_fit": null,
            "object_position": null,
            "order": null,
            "overflow": null,
            "overflow_x": null,
            "overflow_y": null,
            "padding": null,
            "right": null,
            "top": null,
            "visibility": null,
            "width": null
          }
        },
        "bf91ceddfeed40e19fa1ee1841dd9e00": {
          "model_module": "@jupyter-widgets/controls",
          "model_name": "ProgressStyleModel",
          "model_module_version": "1.5.0",
          "state": {
            "_model_module": "@jupyter-widgets/controls",
            "_model_module_version": "1.5.0",
            "_model_name": "ProgressStyleModel",
            "_view_count": null,
            "_view_module": "@jupyter-widgets/base",
            "_view_module_version": "1.2.0",
            "_view_name": "StyleView",
            "bar_color": null,
            "description_width": ""
          }
        },
        "2d852960ed9847f7b0793d598ab790a0": {
          "model_module": "@jupyter-widgets/base",
          "model_name": "LayoutModel",
          "model_module_version": "1.2.0",
          "state": {
            "_model_module": "@jupyter-widgets/base",
            "_model_module_version": "1.2.0",
            "_model_name": "LayoutModel",
            "_view_count": null,
            "_view_module": "@jupyter-widgets/base",
            "_view_module_version": "1.2.0",
            "_view_name": "LayoutView",
            "align_content": null,
            "align_items": null,
            "align_self": null,
            "border": null,
            "bottom": null,
            "display": null,
            "flex": null,
            "flex_flow": null,
            "grid_area": null,
            "grid_auto_columns": null,
            "grid_auto_flow": null,
            "grid_auto_rows": null,
            "grid_column": null,
            "grid_gap": null,
            "grid_row": null,
            "grid_template_areas": null,
            "grid_template_columns": null,
            "grid_template_rows": null,
            "height": null,
            "justify_content": null,
            "justify_items": null,
            "left": null,
            "margin": null,
            "max_height": null,
            "max_width": null,
            "min_height": null,
            "min_width": null,
            "object_fit": null,
            "object_position": null,
            "order": null,
            "overflow": null,
            "overflow_x": null,
            "overflow_y": null,
            "padding": null,
            "right": null,
            "top": null,
            "visibility": null,
            "width": null
          }
        },
        "f3dd71b2f466442ba68a2a00c65f6b43": {
          "model_module": "@jupyter-widgets/controls",
          "model_name": "DescriptionStyleModel",
          "model_module_version": "1.5.0",
          "state": {
            "_model_module": "@jupyter-widgets/controls",
            "_model_module_version": "1.5.0",
            "_model_name": "DescriptionStyleModel",
            "_view_count": null,
            "_view_module": "@jupyter-widgets/base",
            "_view_module_version": "1.2.0",
            "_view_name": "StyleView",
            "description_width": ""
          }
        },
        "efbf2a55978546c09e07dfe231e366ce": {
          "model_module": "@jupyter-widgets/controls",
          "model_name": "HBoxModel",
          "model_module_version": "1.5.0",
          "state": {
            "_dom_classes": [],
            "_model_module": "@jupyter-widgets/controls",
            "_model_module_version": "1.5.0",
            "_model_name": "HBoxModel",
            "_view_count": null,
            "_view_module": "@jupyter-widgets/controls",
            "_view_module_version": "1.5.0",
            "_view_name": "HBoxView",
            "box_style": "",
            "children": [
              "IPY_MODEL_694c30bb1bd34be69252ba3172167601",
              "IPY_MODEL_0096523b139646a48d996dc1ba43cefd",
              "IPY_MODEL_19a8984b86414ccda72ab1f1af5accda"
            ],
            "layout": "IPY_MODEL_13ce0b2f1cd3439689365a0fa4f912b3"
          }
        },
        "694c30bb1bd34be69252ba3172167601": {
          "model_module": "@jupyter-widgets/controls",
          "model_name": "HTMLModel",
          "model_module_version": "1.5.0",
          "state": {
            "_dom_classes": [],
            "_model_module": "@jupyter-widgets/controls",
            "_model_module_version": "1.5.0",
            "_model_name": "HTMLModel",
            "_view_count": null,
            "_view_module": "@jupyter-widgets/controls",
            "_view_module_version": "1.5.0",
            "_view_name": "HTMLView",
            "description": "",
            "description_tooltip": null,
            "layout": "IPY_MODEL_8b12079f110d48a48c0a888e109403d9",
            "placeholder": "​",
            "style": "IPY_MODEL_4aff243e79d648fa8ce3589d22609ea7",
            "value": "tokenizer_config.json: 100%"
          }
        },
        "0096523b139646a48d996dc1ba43cefd": {
          "model_module": "@jupyter-widgets/controls",
          "model_name": "FloatProgressModel",
          "model_module_version": "1.5.0",
          "state": {
            "_dom_classes": [],
            "_model_module": "@jupyter-widgets/controls",
            "_model_module_version": "1.5.0",
            "_model_name": "FloatProgressModel",
            "_view_count": null,
            "_view_module": "@jupyter-widgets/controls",
            "_view_module_version": "1.5.0",
            "_view_name": "ProgressView",
            "bar_style": "success",
            "description": "",
            "description_tooltip": null,
            "layout": "IPY_MODEL_b7fb372660504a748b7a6d587d8344da",
            "max": 48,
            "min": 0,
            "orientation": "horizontal",
            "style": "IPY_MODEL_bbacb915083646d9964d8d8cab8a61a5",
            "value": 48
          }
        },
        "19a8984b86414ccda72ab1f1af5accda": {
          "model_module": "@jupyter-widgets/controls",
          "model_name": "HTMLModel",
          "model_module_version": "1.5.0",
          "state": {
            "_dom_classes": [],
            "_model_module": "@jupyter-widgets/controls",
            "_model_module_version": "1.5.0",
            "_model_name": "HTMLModel",
            "_view_count": null,
            "_view_module": "@jupyter-widgets/controls",
            "_view_module_version": "1.5.0",
            "_view_name": "HTMLView",
            "description": "",
            "description_tooltip": null,
            "layout": "IPY_MODEL_199878ea7ae04209a36b9687e7139c53",
            "placeholder": "​",
            "style": "IPY_MODEL_2004f5861e734d2db1759e54ca24f6d8",
            "value": " 48.0/48.0 [00:00&lt;00:00, 688B/s]"
          }
        },
        "13ce0b2f1cd3439689365a0fa4f912b3": {
          "model_module": "@jupyter-widgets/base",
          "model_name": "LayoutModel",
          "model_module_version": "1.2.0",
          "state": {
            "_model_module": "@jupyter-widgets/base",
            "_model_module_version": "1.2.0",
            "_model_name": "LayoutModel",
            "_view_count": null,
            "_view_module": "@jupyter-widgets/base",
            "_view_module_version": "1.2.0",
            "_view_name": "LayoutView",
            "align_content": null,
            "align_items": null,
            "align_self": null,
            "border": null,
            "bottom": null,
            "display": null,
            "flex": null,
            "flex_flow": null,
            "grid_area": null,
            "grid_auto_columns": null,
            "grid_auto_flow": null,
            "grid_auto_rows": null,
            "grid_column": null,
            "grid_gap": null,
            "grid_row": null,
            "grid_template_areas": null,
            "grid_template_columns": null,
            "grid_template_rows": null,
            "height": null,
            "justify_content": null,
            "justify_items": null,
            "left": null,
            "margin": null,
            "max_height": null,
            "max_width": null,
            "min_height": null,
            "min_width": null,
            "object_fit": null,
            "object_position": null,
            "order": null,
            "overflow": null,
            "overflow_x": null,
            "overflow_y": null,
            "padding": null,
            "right": null,
            "top": null,
            "visibility": null,
            "width": null
          }
        },
        "8b12079f110d48a48c0a888e109403d9": {
          "model_module": "@jupyter-widgets/base",
          "model_name": "LayoutModel",
          "model_module_version": "1.2.0",
          "state": {
            "_model_module": "@jupyter-widgets/base",
            "_model_module_version": "1.2.0",
            "_model_name": "LayoutModel",
            "_view_count": null,
            "_view_module": "@jupyter-widgets/base",
            "_view_module_version": "1.2.0",
            "_view_name": "LayoutView",
            "align_content": null,
            "align_items": null,
            "align_self": null,
            "border": null,
            "bottom": null,
            "display": null,
            "flex": null,
            "flex_flow": null,
            "grid_area": null,
            "grid_auto_columns": null,
            "grid_auto_flow": null,
            "grid_auto_rows": null,
            "grid_column": null,
            "grid_gap": null,
            "grid_row": null,
            "grid_template_areas": null,
            "grid_template_columns": null,
            "grid_template_rows": null,
            "height": null,
            "justify_content": null,
            "justify_items": null,
            "left": null,
            "margin": null,
            "max_height": null,
            "max_width": null,
            "min_height": null,
            "min_width": null,
            "object_fit": null,
            "object_position": null,
            "order": null,
            "overflow": null,
            "overflow_x": null,
            "overflow_y": null,
            "padding": null,
            "right": null,
            "top": null,
            "visibility": null,
            "width": null
          }
        },
        "4aff243e79d648fa8ce3589d22609ea7": {
          "model_module": "@jupyter-widgets/controls",
          "model_name": "DescriptionStyleModel",
          "model_module_version": "1.5.0",
          "state": {
            "_model_module": "@jupyter-widgets/controls",
            "_model_module_version": "1.5.0",
            "_model_name": "DescriptionStyleModel",
            "_view_count": null,
            "_view_module": "@jupyter-widgets/base",
            "_view_module_version": "1.2.0",
            "_view_name": "StyleView",
            "description_width": ""
          }
        },
        "b7fb372660504a748b7a6d587d8344da": {
          "model_module": "@jupyter-widgets/base",
          "model_name": "LayoutModel",
          "model_module_version": "1.2.0",
          "state": {
            "_model_module": "@jupyter-widgets/base",
            "_model_module_version": "1.2.0",
            "_model_name": "LayoutModel",
            "_view_count": null,
            "_view_module": "@jupyter-widgets/base",
            "_view_module_version": "1.2.0",
            "_view_name": "LayoutView",
            "align_content": null,
            "align_items": null,
            "align_self": null,
            "border": null,
            "bottom": null,
            "display": null,
            "flex": null,
            "flex_flow": null,
            "grid_area": null,
            "grid_auto_columns": null,
            "grid_auto_flow": null,
            "grid_auto_rows": null,
            "grid_column": null,
            "grid_gap": null,
            "grid_row": null,
            "grid_template_areas": null,
            "grid_template_columns": null,
            "grid_template_rows": null,
            "height": null,
            "justify_content": null,
            "justify_items": null,
            "left": null,
            "margin": null,
            "max_height": null,
            "max_width": null,
            "min_height": null,
            "min_width": null,
            "object_fit": null,
            "object_position": null,
            "order": null,
            "overflow": null,
            "overflow_x": null,
            "overflow_y": null,
            "padding": null,
            "right": null,
            "top": null,
            "visibility": null,
            "width": null
          }
        },
        "bbacb915083646d9964d8d8cab8a61a5": {
          "model_module": "@jupyter-widgets/controls",
          "model_name": "ProgressStyleModel",
          "model_module_version": "1.5.0",
          "state": {
            "_model_module": "@jupyter-widgets/controls",
            "_model_module_version": "1.5.0",
            "_model_name": "ProgressStyleModel",
            "_view_count": null,
            "_view_module": "@jupyter-widgets/base",
            "_view_module_version": "1.2.0",
            "_view_name": "StyleView",
            "bar_color": null,
            "description_width": ""
          }
        },
        "199878ea7ae04209a36b9687e7139c53": {
          "model_module": "@jupyter-widgets/base",
          "model_name": "LayoutModel",
          "model_module_version": "1.2.0",
          "state": {
            "_model_module": "@jupyter-widgets/base",
            "_model_module_version": "1.2.0",
            "_model_name": "LayoutModel",
            "_view_count": null,
            "_view_module": "@jupyter-widgets/base",
            "_view_module_version": "1.2.0",
            "_view_name": "LayoutView",
            "align_content": null,
            "align_items": null,
            "align_self": null,
            "border": null,
            "bottom": null,
            "display": null,
            "flex": null,
            "flex_flow": null,
            "grid_area": null,
            "grid_auto_columns": null,
            "grid_auto_flow": null,
            "grid_auto_rows": null,
            "grid_column": null,
            "grid_gap": null,
            "grid_row": null,
            "grid_template_areas": null,
            "grid_template_columns": null,
            "grid_template_rows": null,
            "height": null,
            "justify_content": null,
            "justify_items": null,
            "left": null,
            "margin": null,
            "max_height": null,
            "max_width": null,
            "min_height": null,
            "min_width": null,
            "object_fit": null,
            "object_position": null,
            "order": null,
            "overflow": null,
            "overflow_x": null,
            "overflow_y": null,
            "padding": null,
            "right": null,
            "top": null,
            "visibility": null,
            "width": null
          }
        },
        "2004f5861e734d2db1759e54ca24f6d8": {
          "model_module": "@jupyter-widgets/controls",
          "model_name": "DescriptionStyleModel",
          "model_module_version": "1.5.0",
          "state": {
            "_model_module": "@jupyter-widgets/controls",
            "_model_module_version": "1.5.0",
            "_model_name": "DescriptionStyleModel",
            "_view_count": null,
            "_view_module": "@jupyter-widgets/base",
            "_view_module_version": "1.2.0",
            "_view_name": "StyleView",
            "description_width": ""
          }
        },
        "5f830e76e97e4684a530033de7ba883a": {
          "model_module": "@jupyter-widgets/controls",
          "model_name": "HBoxModel",
          "model_module_version": "1.5.0",
          "state": {
            "_dom_classes": [],
            "_model_module": "@jupyter-widgets/controls",
            "_model_module_version": "1.5.0",
            "_model_name": "HBoxModel",
            "_view_count": null,
            "_view_module": "@jupyter-widgets/controls",
            "_view_module_version": "1.5.0",
            "_view_name": "HBoxView",
            "box_style": "",
            "children": [
              "IPY_MODEL_71763dfd8ad6452aa96308b16c53bf99",
              "IPY_MODEL_4a31374d454a4779bf29a8631ca860a9",
              "IPY_MODEL_64a9879e5fa74137bbf67f7a6f018e9f"
            ],
            "layout": "IPY_MODEL_4de2cf0c803748b7bc6ad702ba647506"
          }
        },
        "71763dfd8ad6452aa96308b16c53bf99": {
          "model_module": "@jupyter-widgets/controls",
          "model_name": "HTMLModel",
          "model_module_version": "1.5.0",
          "state": {
            "_dom_classes": [],
            "_model_module": "@jupyter-widgets/controls",
            "_model_module_version": "1.5.0",
            "_model_name": "HTMLModel",
            "_view_count": null,
            "_view_module": "@jupyter-widgets/controls",
            "_view_module_version": "1.5.0",
            "_view_name": "HTMLView",
            "description": "",
            "description_tooltip": null,
            "layout": "IPY_MODEL_d6a8bd9345714ab1aca49a5f5b6dd334",
            "placeholder": "​",
            "style": "IPY_MODEL_e6902ae49cde422ea54cfdc353c98b6e",
            "value": "vocab.txt: 100%"
          }
        },
        "4a31374d454a4779bf29a8631ca860a9": {
          "model_module": "@jupyter-widgets/controls",
          "model_name": "FloatProgressModel",
          "model_module_version": "1.5.0",
          "state": {
            "_dom_classes": [],
            "_model_module": "@jupyter-widgets/controls",
            "_model_module_version": "1.5.0",
            "_model_name": "FloatProgressModel",
            "_view_count": null,
            "_view_module": "@jupyter-widgets/controls",
            "_view_module_version": "1.5.0",
            "_view_name": "ProgressView",
            "bar_style": "success",
            "description": "",
            "description_tooltip": null,
            "layout": "IPY_MODEL_676d6521826b414bb33f461727cd94cf",
            "max": 231508,
            "min": 0,
            "orientation": "horizontal",
            "style": "IPY_MODEL_f7d920227bdb4536831aa24ff5a04b6f",
            "value": 231508
          }
        },
        "64a9879e5fa74137bbf67f7a6f018e9f": {
          "model_module": "@jupyter-widgets/controls",
          "model_name": "HTMLModel",
          "model_module_version": "1.5.0",
          "state": {
            "_dom_classes": [],
            "_model_module": "@jupyter-widgets/controls",
            "_model_module_version": "1.5.0",
            "_model_name": "HTMLModel",
            "_view_count": null,
            "_view_module": "@jupyter-widgets/controls",
            "_view_module_version": "1.5.0",
            "_view_name": "HTMLView",
            "description": "",
            "description_tooltip": null,
            "layout": "IPY_MODEL_db59fbc395b04aaab0920ba26b04ebe4",
            "placeholder": "​",
            "style": "IPY_MODEL_ad64dafefb0f482f831a554856fba949",
            "value": " 232k/232k [00:00&lt;00:00, 2.92MB/s]"
          }
        },
        "4de2cf0c803748b7bc6ad702ba647506": {
          "model_module": "@jupyter-widgets/base",
          "model_name": "LayoutModel",
          "model_module_version": "1.2.0",
          "state": {
            "_model_module": "@jupyter-widgets/base",
            "_model_module_version": "1.2.0",
            "_model_name": "LayoutModel",
            "_view_count": null,
            "_view_module": "@jupyter-widgets/base",
            "_view_module_version": "1.2.0",
            "_view_name": "LayoutView",
            "align_content": null,
            "align_items": null,
            "align_self": null,
            "border": null,
            "bottom": null,
            "display": null,
            "flex": null,
            "flex_flow": null,
            "grid_area": null,
            "grid_auto_columns": null,
            "grid_auto_flow": null,
            "grid_auto_rows": null,
            "grid_column": null,
            "grid_gap": null,
            "grid_row": null,
            "grid_template_areas": null,
            "grid_template_columns": null,
            "grid_template_rows": null,
            "height": null,
            "justify_content": null,
            "justify_items": null,
            "left": null,
            "margin": null,
            "max_height": null,
            "max_width": null,
            "min_height": null,
            "min_width": null,
            "object_fit": null,
            "object_position": null,
            "order": null,
            "overflow": null,
            "overflow_x": null,
            "overflow_y": null,
            "padding": null,
            "right": null,
            "top": null,
            "visibility": null,
            "width": null
          }
        },
        "d6a8bd9345714ab1aca49a5f5b6dd334": {
          "model_module": "@jupyter-widgets/base",
          "model_name": "LayoutModel",
          "model_module_version": "1.2.0",
          "state": {
            "_model_module": "@jupyter-widgets/base",
            "_model_module_version": "1.2.0",
            "_model_name": "LayoutModel",
            "_view_count": null,
            "_view_module": "@jupyter-widgets/base",
            "_view_module_version": "1.2.0",
            "_view_name": "LayoutView",
            "align_content": null,
            "align_items": null,
            "align_self": null,
            "border": null,
            "bottom": null,
            "display": null,
            "flex": null,
            "flex_flow": null,
            "grid_area": null,
            "grid_auto_columns": null,
            "grid_auto_flow": null,
            "grid_auto_rows": null,
            "grid_column": null,
            "grid_gap": null,
            "grid_row": null,
            "grid_template_areas": null,
            "grid_template_columns": null,
            "grid_template_rows": null,
            "height": null,
            "justify_content": null,
            "justify_items": null,
            "left": null,
            "margin": null,
            "max_height": null,
            "max_width": null,
            "min_height": null,
            "min_width": null,
            "object_fit": null,
            "object_position": null,
            "order": null,
            "overflow": null,
            "overflow_x": null,
            "overflow_y": null,
            "padding": null,
            "right": null,
            "top": null,
            "visibility": null,
            "width": null
          }
        },
        "e6902ae49cde422ea54cfdc353c98b6e": {
          "model_module": "@jupyter-widgets/controls",
          "model_name": "DescriptionStyleModel",
          "model_module_version": "1.5.0",
          "state": {
            "_model_module": "@jupyter-widgets/controls",
            "_model_module_version": "1.5.0",
            "_model_name": "DescriptionStyleModel",
            "_view_count": null,
            "_view_module": "@jupyter-widgets/base",
            "_view_module_version": "1.2.0",
            "_view_name": "StyleView",
            "description_width": ""
          }
        },
        "676d6521826b414bb33f461727cd94cf": {
          "model_module": "@jupyter-widgets/base",
          "model_name": "LayoutModel",
          "model_module_version": "1.2.0",
          "state": {
            "_model_module": "@jupyter-widgets/base",
            "_model_module_version": "1.2.0",
            "_model_name": "LayoutModel",
            "_view_count": null,
            "_view_module": "@jupyter-widgets/base",
            "_view_module_version": "1.2.0",
            "_view_name": "LayoutView",
            "align_content": null,
            "align_items": null,
            "align_self": null,
            "border": null,
            "bottom": null,
            "display": null,
            "flex": null,
            "flex_flow": null,
            "grid_area": null,
            "grid_auto_columns": null,
            "grid_auto_flow": null,
            "grid_auto_rows": null,
            "grid_column": null,
            "grid_gap": null,
            "grid_row": null,
            "grid_template_areas": null,
            "grid_template_columns": null,
            "grid_template_rows": null,
            "height": null,
            "justify_content": null,
            "justify_items": null,
            "left": null,
            "margin": null,
            "max_height": null,
            "max_width": null,
            "min_height": null,
            "min_width": null,
            "object_fit": null,
            "object_position": null,
            "order": null,
            "overflow": null,
            "overflow_x": null,
            "overflow_y": null,
            "padding": null,
            "right": null,
            "top": null,
            "visibility": null,
            "width": null
          }
        },
        "f7d920227bdb4536831aa24ff5a04b6f": {
          "model_module": "@jupyter-widgets/controls",
          "model_name": "ProgressStyleModel",
          "model_module_version": "1.5.0",
          "state": {
            "_model_module": "@jupyter-widgets/controls",
            "_model_module_version": "1.5.0",
            "_model_name": "ProgressStyleModel",
            "_view_count": null,
            "_view_module": "@jupyter-widgets/base",
            "_view_module_version": "1.2.0",
            "_view_name": "StyleView",
            "bar_color": null,
            "description_width": ""
          }
        },
        "db59fbc395b04aaab0920ba26b04ebe4": {
          "model_module": "@jupyter-widgets/base",
          "model_name": "LayoutModel",
          "model_module_version": "1.2.0",
          "state": {
            "_model_module": "@jupyter-widgets/base",
            "_model_module_version": "1.2.0",
            "_model_name": "LayoutModel",
            "_view_count": null,
            "_view_module": "@jupyter-widgets/base",
            "_view_module_version": "1.2.0",
            "_view_name": "LayoutView",
            "align_content": null,
            "align_items": null,
            "align_self": null,
            "border": null,
            "bottom": null,
            "display": null,
            "flex": null,
            "flex_flow": null,
            "grid_area": null,
            "grid_auto_columns": null,
            "grid_auto_flow": null,
            "grid_auto_rows": null,
            "grid_column": null,
            "grid_gap": null,
            "grid_row": null,
            "grid_template_areas": null,
            "grid_template_columns": null,
            "grid_template_rows": null,
            "height": null,
            "justify_content": null,
            "justify_items": null,
            "left": null,
            "margin": null,
            "max_height": null,
            "max_width": null,
            "min_height": null,
            "min_width": null,
            "object_fit": null,
            "object_position": null,
            "order": null,
            "overflow": null,
            "overflow_x": null,
            "overflow_y": null,
            "padding": null,
            "right": null,
            "top": null,
            "visibility": null,
            "width": null
          }
        },
        "ad64dafefb0f482f831a554856fba949": {
          "model_module": "@jupyter-widgets/controls",
          "model_name": "DescriptionStyleModel",
          "model_module_version": "1.5.0",
          "state": {
            "_model_module": "@jupyter-widgets/controls",
            "_model_module_version": "1.5.0",
            "_model_name": "DescriptionStyleModel",
            "_view_count": null,
            "_view_module": "@jupyter-widgets/base",
            "_view_module_version": "1.2.0",
            "_view_name": "StyleView",
            "description_width": ""
          }
        }
      }
    }
  },
  "cells": [
    {
      "cell_type": "markdown",
      "metadata": {
        "id": "view-in-github",
        "colab_type": "text"
      },
      "source": [
        "<a href=\"https://colab.research.google.com/github/taaha3244/HuggingFace-NLP/blob/main/BehindPipeline.ipynb\" target=\"_parent\"><img src=\"https://colab.research.google.com/assets/colab-badge.svg\" alt=\"Open In Colab\"/></a>"
      ]
    },
    {
      "cell_type": "markdown",
      "source": [
        "![image.png](data:image/png;base64,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)"
      ],
      "metadata": {
        "id": "HSAuwZPEqoLa"
      }
    },
    {
      "cell_type": "markdown",
      "source": [
        "Under the hood, a huggingface pipeline caters for all the above mentioned steps i.e. Tokenizing,Model Retrieval and post processing"
      ],
      "metadata": {
        "id": "Aha2zMscqqs5"
      }
    },
    {
      "cell_type": "code",
      "execution_count": 1,
      "metadata": {
        "colab": {
          "base_uri": "https://localhost:8080/",
          "height": 304,
          "referenced_widgets": [
            "ca658b6b3b0143938bc7faa2c2050020",
            "81faa6d4a0f942c0815cfe35d8e64701",
            "da7664008c9d48318c0385045ce46350",
            "d4eff2aba1354e0cab7dcf31f70e75e6",
            "a111839f71e84ce289d318139e4a15e7",
            "941c447b59994736be0656d9ac492d94",
            "e9c93916927a4446be97f4d3380e6569",
            "8c590de4e9cd4dea9ab5a6845d915254",
            "230a92adf65d437ca112c5873076d444",
            "10352a5002e345d482f927bd38d6bda4",
            "d064c79fb7eb4b5e8caeda927c7477e5",
            "2fcf4771cf2f4fa6b75b47d0637693b2",
            "5b12f84cf0c0487f9bb6e99c7131a214",
            "bfb438f3bcef44a4b84fcbb9fcae10ee",
            "f0445c91bb8a4662a27c3937fc0a8ff0",
            "7cfd54f4e4e34cd188febebba4373c9a",
            "e0b992ed6de7456f9b3875dacfbd5364",
            "81cb05efa2524a5885a448160ea6ac1b",
            "552b4179f1584ee1b936f748c9e334fb",
            "bf91ceddfeed40e19fa1ee1841dd9e00",
            "2d852960ed9847f7b0793d598ab790a0",
            "f3dd71b2f466442ba68a2a00c65f6b43",
            "efbf2a55978546c09e07dfe231e366ce",
            "694c30bb1bd34be69252ba3172167601",
            "0096523b139646a48d996dc1ba43cefd",
            "19a8984b86414ccda72ab1f1af5accda",
            "13ce0b2f1cd3439689365a0fa4f912b3",
            "8b12079f110d48a48c0a888e109403d9",
            "4aff243e79d648fa8ce3589d22609ea7",
            "b7fb372660504a748b7a6d587d8344da",
            "bbacb915083646d9964d8d8cab8a61a5",
            "199878ea7ae04209a36b9687e7139c53",
            "2004f5861e734d2db1759e54ca24f6d8",
            "5f830e76e97e4684a530033de7ba883a",
            "71763dfd8ad6452aa96308b16c53bf99",
            "4a31374d454a4779bf29a8631ca860a9",
            "64a9879e5fa74137bbf67f7a6f018e9f",
            "4de2cf0c803748b7bc6ad702ba647506",
            "d6a8bd9345714ab1aca49a5f5b6dd334",
            "e6902ae49cde422ea54cfdc353c98b6e",
            "676d6521826b414bb33f461727cd94cf",
            "f7d920227bdb4536831aa24ff5a04b6f",
            "db59fbc395b04aaab0920ba26b04ebe4",
            "ad64dafefb0f482f831a554856fba949"
          ]
        },
        "id": "i3foL_KZjyXz",
        "outputId": "34c5539e-382f-4459-988b-3a650ca41d43"
      },
      "outputs": [
        {
          "output_type": "stream",
          "name": "stderr",
          "text": [
            "No model was supplied, defaulted to distilbert-base-uncased-finetuned-sst-2-english and revision af0f99b (https://huggingface.co/distilbert-base-uncased-finetuned-sst-2-english).\n",
            "Using a pipeline without specifying a model name and revision in production is not recommended.\n",
            "/usr/local/lib/python3.10/dist-packages/huggingface_hub/utils/_token.py:88: UserWarning: \n",
            "The secret `HF_TOKEN` does not exist in your Colab secrets.\n",
            "To authenticate with the Hugging Face Hub, create a token in your settings tab (https://huggingface.co/settings/tokens), set it as secret in your Google Colab and restart your session.\n",
            "You will be able to reuse this secret in all of your notebooks.\n",
            "Please note that authentication is recommended but still optional to access public models or datasets.\n",
            "  warnings.warn(\n"
          ]
        },
        {
          "output_type": "display_data",
          "data": {
            "text/plain": [
              "config.json:   0%|          | 0.00/629 [00:00<?, ?B/s]"
            ],
            "application/vnd.jupyter.widget-view+json": {
              "version_major": 2,
              "version_minor": 0,
              "model_id": "ca658b6b3b0143938bc7faa2c2050020"
            }
          },
          "metadata": {}
        },
        {
          "output_type": "display_data",
          "data": {
            "text/plain": [
              "model.safetensors:   0%|          | 0.00/268M [00:00<?, ?B/s]"
            ],
            "application/vnd.jupyter.widget-view+json": {
              "version_major": 2,
              "version_minor": 0,
              "model_id": "2fcf4771cf2f4fa6b75b47d0637693b2"
            }
          },
          "metadata": {}
        },
        {
          "output_type": "display_data",
          "data": {
            "text/plain": [
              "tokenizer_config.json:   0%|          | 0.00/48.0 [00:00<?, ?B/s]"
            ],
            "application/vnd.jupyter.widget-view+json": {
              "version_major": 2,
              "version_minor": 0,
              "model_id": "efbf2a55978546c09e07dfe231e366ce"
            }
          },
          "metadata": {}
        },
        {
          "output_type": "display_data",
          "data": {
            "text/plain": [
              "vocab.txt:   0%|          | 0.00/232k [00:00<?, ?B/s]"
            ],
            "application/vnd.jupyter.widget-view+json": {
              "version_major": 2,
              "version_minor": 0,
              "model_id": "5f830e76e97e4684a530033de7ba883a"
            }
          },
          "metadata": {}
        }
      ],
      "source": [
        "from transformers import pipeline\n",
        "\n",
        "classifier = pipeline(\"sentiment-analysis\")\n"
      ]
    },
    {
      "cell_type": "code",
      "source": [
        "classifier(\n",
        "    [\n",
        "        \"I've been waiting for a HuggingFace course my whole life.\",\n",
        "        \"I hate this so much!\",\n",
        "    ]\n",
        ")"
      ],
      "metadata": {
        "colab": {
          "base_uri": "https://localhost:8080/"
        },
        "id": "IFX9cIZkj6Gg",
        "outputId": "efe236b0-94e3-4da0-e042-cfb6ac616c36"
      },
      "execution_count": 2,
      "outputs": [
        {
          "output_type": "execute_result",
          "data": {
            "text/plain": [
              "[{'label': 'POSITIVE', 'score': 0.9598048329353333},\n",
              " {'label': 'NEGATIVE', 'score': 0.9994558691978455}]"
            ]
          },
          "metadata": {},
          "execution_count": 2
        }
      ]
    },
    {
      "cell_type": "markdown",
      "source": [
        "Lets see ,if we need to use any model from hugging face .How we can  go through these steps"
      ],
      "metadata": {
        "id": "2KIWLBGBq-xl"
      }
    },
    {
      "cell_type": "markdown",
      "source": [
        "##Preprocessing with a tokenizer\n",
        "Like other neural networks, Transformer models can’t process raw text directly, so the first step of our pipeline is to convert the text inputs into numbers that the model can make sense of. To do this we use a tokenizer, which will be responsible for:\n",
        "\n",
        "1. Splitting the input into words, subwords, or symbols (like punctuation) that are called tokens\n",
        "2. Mapping each token to an integer\n",
        "3. Adding additional inputs that may be useful to the model\n",
        "\n",
        "All this preprocessing needs to be done in exactly the same way as when the model was pretrained, so we first need to download that information from the Model Hub. To do this, we use the AutoTokenizer class and its from_pretrained() method. Using the checkpoint name of our model, it will automatically fetch the data associated with the model’s tokenizer and cache it (so it’s only downloaded the first time you run the code below)."
      ],
      "metadata": {
        "id": "lq1Ado7arOj3"
      }
    },
    {
      "cell_type": "code",
      "source": [
        "from transformers import AutoTokenizer\n",
        "\n",
        "checkpoint = \"distilbert-base-uncased-finetuned-sst-2-english\"\n",
        "tokenizer = AutoTokenizer.from_pretrained(checkpoint)"
      ],
      "metadata": {
        "id": "5Fs3h7OokMWe"
      },
      "execution_count": 3,
      "outputs": []
    },
    {
      "cell_type": "code",
      "source": [
        "raw_inputs = [\n",
        "    \"I've been waiting for a HuggingFace course my whole life.\",\n",
        "    \"I hate this so much!\",\n",
        "]\n",
        "inputs = tokenizer(raw_inputs, padding=True, truncation=True, return_tensors=\"pt\")\n",
        "print(inputs)"
      ],
      "metadata": {
        "colab": {
          "base_uri": "https://localhost:8080/"
        },
        "id": "JA7XM45gmJge",
        "outputId": "46649fd6-8c0d-482b-a319-14b749c13255"
      },
      "execution_count": 4,
      "outputs": [
        {
          "output_type": "stream",
          "name": "stdout",
          "text": [
            "{'input_ids': tensor([[  101,  1045,  1005,  2310,  2042,  3403,  2005,  1037, 17662, 12172,\n",
            "          2607,  2026,  2878,  2166,  1012,   102],\n",
            "        [  101,  1045,  5223,  2023,  2061,  2172,   999,   102,     0,     0,\n",
            "             0,     0,     0,     0,     0,     0]]), 'attention_mask': tensor([[1, 1, 1, 1, 1, 1, 1, 1, 1, 1, 1, 1, 1, 1, 1, 1],\n",
            "        [1, 1, 1, 1, 1, 1, 1, 1, 0, 0, 0, 0, 0, 0, 0, 0]])}\n"
          ]
        }
      ]
    },
    {
      "cell_type": "markdown",
      "source": [
        "##Going through the model\n",
        "We can download our pretrained model the same way we did with our tokenizer. 🤗 Transformers provides an AutoModel class which also has a from_pretrained() method:"
      ],
      "metadata": {
        "id": "t6w-TN5tr1Ep"
      }
    },
    {
      "cell_type": "code",
      "source": [
        "from transformers import AutoModel\n",
        "\n",
        "checkpoint = \"distilbert-base-uncased-finetuned-sst-2-english\"\n",
        "model = AutoModel.from_pretrained(checkpoint)"
      ],
      "metadata": {
        "id": "85G5LCJvmjP4"
      },
      "execution_count": 5,
      "outputs": []
    },
    {
      "cell_type": "code",
      "source": [
        "outputs = model(inputs['input_ids'])\n",
        "print(outputs.last_hidden_state.shape)"
      ],
      "metadata": {
        "colab": {
          "base_uri": "https://localhost:8080/"
        },
        "id": "FSZncC-HmxNl",
        "outputId": "caa03ab4-afe9-4c39-b2f0-41066560ab3d"
      },
      "execution_count": 6,
      "outputs": [
        {
          "output_type": "stream",
          "name": "stderr",
          "text": [
            "We strongly recommend passing in an `attention_mask` since your input_ids may be padded. See https://huggingface.co/docs/transformers/troubleshooting#incorrect-output-when-padding-tokens-arent-masked.\n"
          ]
        },
        {
          "output_type": "stream",
          "name": "stdout",
          "text": [
            "torch.Size([2, 16, 768])\n"
          ]
        }
      ]
    },
    {
      "cell_type": "code",
      "source": [
        "from transformers import AutoModelForSequenceClassification\n",
        "\n",
        "checkpoint = \"distilbert-base-uncased-finetuned-sst-2-english\"\n",
        "model = AutoModelForSequenceClassification.from_pretrained(checkpoint)\n",
        "outputs = model(inputs['input_ids'])"
      ],
      "metadata": {
        "id": "fDHuYz7MnM4-"
      },
      "execution_count": 7,
      "outputs": []
    },
    {
      "cell_type": "code",
      "source": [
        "outputs.logits"
      ],
      "metadata": {
        "colab": {
          "base_uri": "https://localhost:8080/"
        },
        "id": "x70SCa8qnkt2",
        "outputId": "0df1c28f-9282-4ec3-ed3b-3106f75bff36"
      },
      "execution_count": 10,
      "outputs": [
        {
          "output_type": "execute_result",
          "data": {
            "text/plain": [
              "tensor([[-1.5607,  1.6123],\n",
              "        [ 3.4603, -2.9194]], grad_fn=<AddmmBackward0>)"
            ]
          },
          "metadata": {},
          "execution_count": 10
        }
      ]
    },
    {
      "cell_type": "code",
      "source": [
        "import torch\n",
        "\n",
        "predictions = torch.nn.functional.softmax(outputs.logits, dim=-1)\n",
        "print(predictions)"
      ],
      "metadata": {
        "colab": {
          "base_uri": "https://localhost:8080/"
        },
        "id": "LRTB9XU2nqwO",
        "outputId": "b33c6686-89f4-4ecd-cbc5-43069739e085"
      },
      "execution_count": 11,
      "outputs": [
        {
          "output_type": "stream",
          "name": "stdout",
          "text": [
            "tensor([[0.0402, 0.9598],\n",
            "        [0.9983, 0.0017]], grad_fn=<SoftmaxBackward0>)\n"
          ]
        }
      ]
    },
    {
      "cell_type": "code",
      "source": [
        "model.config.id2label"
      ],
      "metadata": {
        "colab": {
          "base_uri": "https://localhost:8080/"
        },
        "id": "zR-J_S1OoBgK",
        "outputId": "c02b283e-a831-497c-f1b5-48986b0001c0"
      },
      "execution_count": 12,
      "outputs": [
        {
          "output_type": "execute_result",
          "data": {
            "text/plain": [
              "{0: 'NEGATIVE', 1: 'POSITIVE'}"
            ]
          },
          "metadata": {},
          "execution_count": 12
        }
      ]
    }
  ]
}